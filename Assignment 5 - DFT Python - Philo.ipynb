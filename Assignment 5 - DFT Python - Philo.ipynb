{
 "cells": [
  {
   "cell_type": "markdown",
   "metadata": {},
   "source": [
    "# PHYS 497 - Assignment 5\n",
    "\n",
    "## Discrete Fourier Transform\n",
    "____\n",
    "\n",
    "#### Filobateer Ghaly - 10175960"
   ]
  },
  {
   "cell_type": "code",
   "execution_count": 1,
   "metadata": {},
   "outputs": [],
   "source": [
    "import numpy as np\n",
    "import math\n",
    "import scipy\n",
    "import matplotlib.pylab as plt"
   ]
  },
  {
   "cell_type": "markdown",
   "metadata": {},
   "source": [
    "We can use either libraries or some functions to do the calculations for us. It is better to use functions in this case so that at least some of the work behind the calculations shows. Let us setup the problem by first introdcuing the forward Fourier Transform and the signal being analyzed.\n",
    "\n",
    "The DFT is defined by:\n",
    "\n",
    "$$  G_k = \\sum_{m = 0}^{n -1} g_m \\ e^{\\Large \\left(\\frac{-2\\pi m k j}{n} \\right)}  $$\n",
    "\n",
    "And the signal is given by: \n",
    "\n",
    "$$ x(t) = 3.0 \\ \\cos(2 \\pi 2 t) + 1.0  \\ \\sin(2 \\pi 4 t) $$ \n",
    "\n",
    "This means we have two signals, a **2 Hz cosine** wave and a **4 Hz sine** wave. This sets our expectations when performing our analysis.\n"
   ]
  },
  {
   "cell_type": "markdown",
   "metadata": {},
   "source": [
    "\n",
    "___\n",
    "\n",
    "### Q1: What is the period in seconds between each sample?\n",
    "\n",
    "$$ T_s = \\frac{1}{f_s} = \\frac{1}{10} = 0.1 ~ s $$\n",
    "\n",
    "___\n",
    "\n",
    "### Q2: What are the specific frequencies represented in the set $G_k$ ?\n",
    "\n",
    "$ G_k $ is a complex frequency series calculated based on the discretized frequency $ f_k $, where:\n",
    "\n",
    "$$ f_k = k \\frac{f_s}{n} $$\n",
    "\n",
    "We can think of the DFT in terms of the discretized angular frequency $ \\omega_k = 2 \\pi f_k =  2 \\pi \\ k \\  \\Large\\frac{f_s}{n} $. The normalized frequency can then be introduced: \n",
    "\n",
    "$$ \\hat{\\omega} = \\frac{\\omega}{ f_s}  = \\frac{2 \\pi  k   }{ n}  $$ \n",
    "\n",
    "The DFT can then be written as:\n",
    "\n",
    "$$  G_k = \\sum_{m = 0}^{n -1} g_m \\ e^{\\Large -m \\hat{\\omega}_k j } =  \\sum_{m = 0}^{n -1} g_m \\left[ \\cos(m \\hat{\\omega}_k) - j \\ \\sin(m \\hat{\\omega}_k) \\right] $$\n",
    "\n",
    "We can see that by substituting the Euler's identity, any pure cosine signal will only have real parts, while a pure sine signal will only have imaginary parts. Our signal contains both, so we expect a complex series. \n",
    "\n",
    "---\n",
    "\n",
    "At this sampling rate, we have two frequencies, the 2 Hz and the 4 Hz. The normalized frequencies can be written as:\n",
    "\n",
    "- Cosine: $ \\hat{\\omega}_{cosine} = 2 \\pi \\cdot 2 /10 =  \\frac{2 \\pi}{5} = 0.4 \\pi $ *(This would be the 2 Hz signal)*\n",
    "- Sine: $ \\hat{\\omega}_{sine} = 2 \\pi \\cdot 4 /10 =  \\frac{4 \\pi}{5} = 0.8 \\pi $ *(This would be the 4 Hz signal)*\n",
    "\n",
    "___\n",
    "\n",
    "### Q3: What is the Nyquist frequency? Is it sufficient to accurately capture this waveform in particular?\n",
    "\n",
    "The Nyquist frequency:\n",
    "\n",
    "$$f_N = f_s / 2 = 5 ~ Hz $$\n",
    "\n",
    "According to Nyquist theorem, the sampling rate $ f_s $ must be at least twice the maximum frequency present in our signal, or:\n",
    "\n",
    "$$  f_s \\geq 2 \\cdot f_{sine} = 2 \\cdot 4 = 8 ~ Hz  $$\n",
    "\n",
    "Another way of looking at it, the Nyquist frequency needs to be higher than the highest component frequency in our signal (the sine wave). This is true, and so we expect that this is sufficient. However, we explore this further in **Q6**.\n",
    "\n",
    "___\n",
    "\n",
    "### Q4: Write the discrete set of values $g_m$.\n",
    "\n",
    "$g_m$ is simply the discretized form of the function $ x(t) $. We are taking 10 samples at a rate of 10 Hz, yielding a sampling period of $ T_s = 0.1 ~ s $. This means that every 0.1 of a second a sample is taken (10 samples per second). We can write the set of $g_m$ as follows:\n",
    "\n",
    "$$ g_m = {g_0, \\ g_1, \\ ...  \\ , \\ g_{n-1}}   $$\n",
    "\n",
    "Where, \n",
    "\n",
    "$$ g[m] = 3.0 \\ \\cos(0.4 \\pi \\ t_m) + 1.0 \\sin(0.8 \\pi \\ t_m) $$\n",
    "\n",
    "Here, $t_m = m \\cdot T_s $. We can let the computer do the calculation for us:"
   ]
  },
  {
   "cell_type": "code",
   "execution_count": 2,
   "metadata": {},
   "outputs": [],
   "source": [
    "def plot(x, y, xlabel, ylabel):\n",
    "    \n",
    "    plt.xlabel(xlabel)\n",
    "    plt.ylabel(ylabel)\n",
    "    plt.plot(x, y)\n",
    "    plt.scatter(x, y, color = 'crimson', linewidths = 0.05, alpha = 0.5)\n",
    "    plt.grid()"
   ]
  },
  {
   "cell_type": "code",
   "execution_count": 3,
   "metadata": {
    "scrolled": false
   },
   "outputs": [
    {
     "name": "stdout",
     "output_type": "stream",
     "text": [
      "g[ 0 ]= 3.0\n",
      "g[ 1 ]= 1.5148362354173157\n",
      "g[ 2 ]= -3.3781074994199956\n",
      "g[ 3 ]= -1.4759944668296887\n",
      "g[ 4 ]= 0.3392657308323689\n",
      "g[ 5 ]= 2.9999999999999996\n",
      "g[ 6 ]= 1.5148362354173168\n",
      "g[ 7 ]= -3.378107499419995\n",
      "g[ 8 ]= -1.47599446682969\n",
      "g[ 9 ]= 0.33926573083236855\n"
     ]
    },
    {
     "data": {
      "image/png": "[encoded data removed]",
      "text/plain": [
       "<Figure size 432x288 with 1 Axes>"
      ]
     },
     "metadata": {
      "needs_background": "light"
     },
     "output_type": "display_data"
    }
   ],
   "source": [
    "n = 10    # Number of samples\n",
    "fs = 10   # Sampling rate\n",
    "Ts = 1/fs # Sampling period\n",
    "\n",
    "# Making an array of samples from 0 to 9 (total of 10)\n",
    "# The spacing between each one is given by the sampling period\n",
    "t_m = np.linspace(0, (n-1)*Ts, n) # Note, t(m) = m*Ts is this vector \n",
    "\n",
    "# This is our discretized function\n",
    "# Both lines are identical\n",
    "g_m = 3.0*np.cos(2*np.pi*2*t_m)+1.0*np.sin(2*np.pi*4*t_m); \n",
    "g_m = 3.0*np.cos(0.4*np.pi*t_m/Ts)+1.0*np.sin(0.8*np.pi*t_m/Ts); \n",
    "\n",
    "plot(t_m, g_m, 'Time, t_m', 'Discretized Signal, g_m') \n",
    "\n",
    "for i in range(0, len(g_m)):\n",
    "    print(\"g[\", i, ']=', g_m[i])"
   ]
  },
  {
   "cell_type": "markdown",
   "metadata": {},
   "source": [
    "These are the values for $g_m$. This is defenitely not a good looking signal, but only because we are not taking many samples. The question is, is this sampling enough to represent our original frequencies? We answer this in **Q5** and **Q6**."
   ]
  },
  {
   "cell_type": "markdown",
   "metadata": {},
   "source": [
    "### Q5 & Q6: Calculate the coefficients $ G_k $ and discuss the results obtained to show that the result is consistent with the time series $ x(t) $.\n",
    "\n",
    "\n",
    "We will use a DFT function at first. To check with a library, we use `scipy`'s FFT function. FFT stands for **Fast Fourier Transform** and is only a more efficient algorithm that is otherwise identical to the DFT. We will run this algorithm on the original signal first to see what we would expect to get.\n",
    "\n",
    "A few things to note:\n",
    "- Above the Nyquist frequency we don't gain any information. We expect to see a mirror image across the Nyquist.\n",
    "- We know the sine would be a *'negative' frequency*, so if we want the entire spectrum all at once we use the absolute value."
   ]
  },
  {
   "cell_type": "code",
   "execution_count": 4,
   "metadata": {},
   "outputs": [
    {
     "name": "stdout",
     "output_type": "stream",
     "text": [
      "The difference between the two for G[ 0 ]= 0\n",
      "The difference between the two for G[ 1 ]= 0\n",
      "The difference between the two for G[ 2 ]= 0\n",
      "The difference between the two for G[ 3 ]= 0\n",
      "The difference between the two for G[ 4 ]= 0\n",
      "The difference between the two for G[ 5 ]= 0\n",
      "The difference between the two for G[ 6 ]= 0\n",
      "The difference between the two for G[ 7 ]= 0\n",
      "The difference between the two for G[ 8 ]= 0\n",
      "The difference between the two for G[ 9 ]= 0\n"
     ]
    }
   ],
   "source": [
    "def DFT(x):\n",
    "    \"\"\"\n",
    "    Function to calculate the \n",
    "    discrete Fourier Transform \n",
    "    of a 1D real-valued signal x\n",
    "    \"\"\"\n",
    "    N = len(x) \n",
    "    n = np.arange(N) # Make an array for the running index\n",
    "    k = n.reshape((N, 1)) # Flatten into 1D\n",
    "    e = np.exp(-2j * np.pi * k * n / N) # Define the exponential term\n",
    "    \n",
    "    X = np.dot(e, x) # Dot g_m with the exponential term for each entry in the array\n",
    "    \n",
    "    return np.array(X, dtype =\"complex_\") # Return a complex array\n",
    "\n",
    "# Apply the DFT to g_m\n",
    "G_k = DFT(g_m)\n",
    "\n",
    "# Check with a library\n",
    "G_k_lib = scipy.fft.fft(g_m)\n",
    "\n",
    "for i in range(0, len(G_k)):\n",
    "    diff = G_k[i] - G_k_lib[i]\n",
    "    if diff < 1e-11: diff = 0\n",
    "    print(\"The difference between the two for\",\"G[\", i, ']=', diff)"
   ]
  },
  {
   "cell_type": "markdown",
   "metadata": {},
   "source": [
    "This means our results are consistent with a prebuilt library."
   ]
  },
  {
   "cell_type": "code",
   "execution_count": 5,
   "metadata": {},
   "outputs": [
    {
     "name": "stdout",
     "output_type": "stream",
     "text": [
      "G[ 0 ]= 0j\n",
      "G[ 1 ]= (-4.996003610813204e-16-4.996003610813204e-16j)\n",
      "G[ 2 ]= (15-8.326672684688674e-16j)\n",
      "G[ 3 ]= (2.4424906541753444e-15+5.051514762044462e-15j)\n",
      "G[ 4 ]= (4.440892098500626e-16-5j)\n",
      "G[ 5 ]= 6.581951968451215e-15j\n",
      "G[ 6 ]= (7.66053886991358e-15+5.000000000000002j)\n",
      "G[ 7 ]= (1.124100812432971e-15-4.218847493575595e-15j)\n",
      "G[ 8 ]= (15+1.4765966227514582e-14j)\n",
      "G[ 9 ]= (5.551115123125783e-15+2.8033131371785203e-15j)\n"
     ]
    }
   ],
   "source": [
    "for i in range(0, len(G_k)):\n",
    "    print(\"G[\", i, ']=', G_k[i])"
   ]
  },
  {
   "cell_type": "markdown",
   "metadata": {},
   "source": [
    "This is the set of coefficients $ G_k$ that represent the magnitude of certain frequencies in our discretized signal. Notice that for the most part, these are all zeros. The computer usually has trouble showing zeros, we can add a line to show which entries are zero by assuming anything below $ 1 \\times 10^{-11} $ as zero."
   ]
  },
  {
   "cell_type": "code",
   "execution_count": 6,
   "metadata": {},
   "outputs": [
    {
     "name": "stdout",
     "output_type": "stream",
     "text": [
      "G[ 0 ]= 0j\n",
      "G[ 1 ]= 0j\n",
      "G[ 2 ]= (15-8.326672684688674e-16j)\n",
      "G[ 3 ]= 0j\n",
      "G[ 4 ]= (4.440892098500626e-16-5j)\n",
      "G[ 5 ]= 0j\n",
      "G[ 6 ]= (7.66053886991358e-15+5.000000000000002j)\n",
      "G[ 7 ]= 0j\n",
      "G[ 8 ]= (15+1.4765966227514582e-14j)\n",
      "G[ 9 ]= 0j\n"
     ]
    }
   ],
   "source": [
    "for i in range(0, len(G_k)):\n",
    "    if abs(G_k[i]) < 1e-11: G_k[i] = 0\n",
    "    print(\"G[\", i, ']=', G_k[i])"
   ]
  },
  {
   "cell_type": "markdown",
   "metadata": {},
   "source": [
    "This makes it much clearer that we have only two frequencies in our signal (the sine and cosine waves). I say two because as discussed earlier, we would have a mirror image across the Nyquist. Also note, the sine wave component is purely imaginary while the cosine is purely real. This allows us to tell which is the sine from the cosine in our coefficients.\n",
    "\n",
    "---\n",
    "\n",
    "### Power Plot of Signal\n",
    "\n",
    "Let us plot these results to get a better picture."
   ]
  },
  {
   "cell_type": "code",
   "execution_count": 8,
   "metadata": {},
   "outputs": [
    {
     "data": {
      "image/png": "[encoded data removed]",
      "text/plain": [
       "<Figure size 792x504 with 1 Axes>"
      ]
     },
     "metadata": {
      "needs_background": "light"
     },
     "output_type": "display_data"
    }
   ],
   "source": [
    "# Build the frequency space\n",
    "N = len(g_m)\n",
    "n = np.arange(N)\n",
    "T = N/fs\n",
    "freq = n/T \n",
    "\n",
    "plt.figure(figsize = (11, 7))\n",
    "\n",
    "plt.stem(freq, np.real(G_k), 'b', \\\n",
    "         markerfmt=\" \", basefmt=\"C0\", linefmt = 'C0');\n",
    "\n",
    "plt.stem(freq, np.imag(G_k), 'b', \\\n",
    "         markerfmt=\" \", basefmt=\"C0\", linefmt = 'C0');\n",
    "\n",
    "plt.xlabel('Freq (Hz)');\n",
    "plt.ylabel('DFT Amplitude, G_k');\n",
    "plt.grid()"
   ]
  },
  {
   "cell_type": "markdown",
   "metadata": {},
   "source": [
    "This matches well with our expectations. There are a few things to note:\n",
    "\n",
    "- The imaginary component is given by the negative frequency that is mirrored with a negative sign across the Nyquist *(because it is conjugated)* like we expect. It is also at 4 Hz representing the sine wave. \n",
    "- The real component represents the cosine wave and is indeed at 2 Hz like we expect. \n",
    "- Both components are not normalized, meaning the magnitude of the coefficients is not representative of the wave. \n",
    "\n",
    "Let us normalize the DFT and plot again, this time ignoring anything above the Nyquist. Let us also take the absolute value so that we are able to see the entire spectrum in one figure. To normalize, we note that across the folding frequency **(The Nyquist)** no new information is gained, so we have to normalize by dividing the magnitude of the transform by **N/2** instead of the entire set of size **N**. \n",
    "\n",
    "*We would have to worry with this normalizing if we had a DC term, but we don't so it's all g.*"
   ]
  },
  {
   "cell_type": "code",
   "execution_count": 11,
   "metadata": {},
   "outputs": [
    {
     "data": {
      "image/png": "[encoded data removed]",
      "text/plain": [
       "<Figure size 792x504 with 1 Axes>"
      ]
     },
     "metadata": {
      "needs_background": "light"
     },
     "output_type": "display_data"
    }
   ],
   "source": [
    "# We know the sine would be a 'negative' frequency, \n",
    "# so if we want the entire spectrum all at once we use the absolute value\n",
    "G_k_norm = np.abs(G_k)/(N/2)\n",
    "\n",
    "plt.figure(figsize = (11, 7))\n",
    "\n",
    "# We also plot only halfway, till the Nyquist\n",
    "plt.stem(freq[0:N//2 +1], G_k_norm[0:N//2 +1], 'b', \\\n",
    "         markerfmt=\" \", basefmt=\"C0\", linefmt = 'C0')\n",
    "\n",
    "plt.xlabel('Freq (Hz)')\n",
    "plt.ylabel('DFT Amplitude, G_k')\n",
    "plt.grid()\n",
    "plt.show()"
   ]
  },
  {
   "cell_type": "markdown",
   "metadata": {},
   "source": [
    "In this plot, it is much clearer now that the sampling was representative of the analog signal. We can see the **2 Hz cosine** wave having a amplitude of **3.0**, while the **4 Hz sine** wave having a amplitude of **1.0**. This is indeed what we expect and is consistent with the time series.\n",
    "___"
   ]
  }
 ],
 "metadata": {
  "kernelspec": {
   "display_name": "Python 3",
   "language": "python",
   "name": "python3"
  },
  "language_info": {
   "codemirror_mode": {
    "name": "ipython",
    "version": 3
   },
   "file_extension": ".py",
   "mimetype": "text/x-python",
   "name": "python",
   "nbconvert_exporter": "python",
   "pygments_lexer": "ipython3",
   "version": "3.8.5"
  }
 },
 "nbformat": 4,
 "nbformat_minor": 4
}
